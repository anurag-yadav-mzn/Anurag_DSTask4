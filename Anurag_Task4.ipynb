{
  "nbformat": 4,
  "nbformat_minor": 0,
  "metadata": {
    "colab": {
      "provenance": [],
      "collapsed_sections": [
        "6pP4zj4ay58W",
        "MfGZqKeXzfuD",
        "qRLZMMUP5Ikp",
        "_R5H-oEE1kEE",
        "LS9NHRyQ4CsN",
        "41l3Y12A3wrm"
      ]
    },
    "kernelspec": {
      "name": "python3",
      "display_name": "Python 3"
    },
    "language_info": {
      "name": "python"
    }
  },
  "cells": [
    {
      "cell_type": "code",
      "execution_count": null,
      "metadata": {
        "id": "4KrkZRnbynW_"
      },
      "outputs": [],
      "source": [
        "import pandas as pd\n",
        "from sklearn.preprocessing import MinMaxScaler\n",
        "\n",
        "# Disable scientific notation for large numbers\n",
        "pd.options.display.float_format = '{:.0f}'.format\n",
        "\n",
        "# Setting display options for Pandas to show three decimal places for floating-point numbers\n",
        "pd.set_option('display.float_format', lambda x: '%.2f' % x)"
      ]
    },
    {
      "cell_type": "markdown",
      "source": [
        "# Data Loading"
      ],
      "metadata": {
        "id": "dUbPmI3dyzFD"
      }
    },
    {
      "cell_type": "code",
      "source": [
        "# import data\n",
        "house_prices_df = pd.read_csv('/content/drive/MyDrive/House_prices.csv')"
      ],
      "metadata": {
        "id": "vpRluYl1yvEJ"
      },
      "execution_count": null,
      "outputs": []
    },
    {
      "cell_type": "markdown",
      "source": [
        "# Data Exploration"
      ],
      "metadata": {
        "id": "6pP4zj4ay58W"
      }
    },
    {
      "cell_type": "code",
      "source": [
        "house_prices_df.info()  # Display information about the DataFrame, including data types and missing values"
      ],
      "metadata": {
        "id": "O567gWPwy-U1"
      },
      "execution_count": null,
      "outputs": []
    },
    {
      "cell_type": "code",
      "source": [
        "house_prices_df.head()  # Display top 5 records"
      ],
      "metadata": {
        "id": "APmKuw7vzM_P"
      },
      "execution_count": null,
      "outputs": []
    },
    {
      "cell_type": "code",
      "source": [
        "house_prices_df[['Size','Bedrooms','Bathrooms','YearBuilt','Price']].describe() # Display statistical information about dataframe"
      ],
      "metadata": {
        "id": "77sFFJEuzN-o"
      },
      "execution_count": null,
      "outputs": []
    },
    {
      "cell_type": "markdown",
      "source": [
        "# Data Cleaning"
      ],
      "metadata": {
        "id": "MfGZqKeXzfuD"
      }
    },
    {
      "cell_type": "code",
      "source": [
        "house_prices_df.isna().sum()  # Find sum of missing values"
      ],
      "metadata": {
        "id": "1zwYDczMzjLt"
      },
      "execution_count": null,
      "outputs": []
    },
    {
      "cell_type": "markdown",
      "source": [
        "Since sum of missing values is zero, so there is no need of replacing null values."
      ],
      "metadata": {
        "id": "6ecZbv_nzsvU"
      }
    },
    {
      "cell_type": "code",
      "source": [
        "print(house_prices_df.duplicated().sum()) # Find sum of duplicate records"
      ],
      "metadata": {
        "id": "yJ-jyxk3z7oC"
      },
      "execution_count": null,
      "outputs": []
    },
    {
      "cell_type": "markdown",
      "source": [
        "Since, sum of duplicated values is zero, so there is no need to drop duplicates."
      ],
      "metadata": {
        "id": "RNG97eOG0D8R"
      }
    },
    {
      "cell_type": "markdown",
      "source": [
        "# Data Preprocessing"
      ],
      "metadata": {
        "id": "qRLZMMUP5Ikp"
      }
    },
    {
      "cell_type": "markdown",
      "source": [
        "Feature scaling"
      ],
      "metadata": {
        "id": "0TISpiMr0fVP"
      }
    },
    {
      "cell_type": "code",
      "source": [
        "# Select features to scale\n",
        "features = ['Size', 'Bedrooms']\n",
        "\n",
        "# Apply Min-Max Scaling\n",
        "min_max_scaler = MinMaxScaler()\n",
        "house_prices_df[features] = min_max_scaler.fit_transform(house_prices_df[features])"
      ],
      "metadata": {
        "id": "W131m9qC0qkm"
      },
      "execution_count": null,
      "outputs": []
    },
    {
      "cell_type": "code",
      "source": [
        "house_prices_df[features].head()  # Print top 5 features"
      ],
      "metadata": {
        "id": "GXjiKSZm0sea"
      },
      "execution_count": null,
      "outputs": []
    },
    {
      "cell_type": "markdown",
      "source": [
        "Encode Categorical Features"
      ],
      "metadata": {
        "id": "-8JQKfps1BY8"
      }
    },
    {
      "cell_type": "code",
      "source": [
        "# One-Hot Encoding for Location\n",
        "one_hot_encoded = pd.get_dummies(house_prices_df['Location'], prefix='Location')\n",
        "\n",
        "# Add the new columns to the original DataFrame\n",
        "house_prices_df = pd.concat([house_prices_df, one_hot_encoded], axis=1)"
      ],
      "metadata": {
        "id": "O6vbSDsj1Ddz"
      },
      "execution_count": null,
      "outputs": []
    },
    {
      "cell_type": "code",
      "source": [
        "# Save cleaned data\n",
        "house_prices_df.to_csv('/content/drive/MyDrive/House_prices_final.csv', index=False)"
      ],
      "metadata": {
        "id": "ar4iqDdy1VXD"
      },
      "execution_count": null,
      "outputs": []
    },
    {
      "cell_type": "markdown",
      "source": [
        "# Analyze Predictors"
      ],
      "metadata": {
        "id": "_R5H-oEE1kEE"
      }
    },
    {
      "cell_type": "code",
      "source": [
        "# Compute correlation matrix for all numerical features with Price\n",
        "correlations = house_prices_df.corr(numeric_only=True)['Price'].sort_values(ascending=False)\n",
        "\n",
        "# Display the correlations\n",
        "print(correlations)"
      ],
      "metadata": {
        "id": "dNA8N8rz1m26"
      },
      "execution_count": null,
      "outputs": []
    },
    {
      "cell_type": "markdown",
      "source": [
        "# Model training and evaluation"
      ],
      "metadata": {
        "id": "LS9NHRyQ4CsN"
      }
    },
    {
      "cell_type": "markdown",
      "source": [
        "Train a Linear Regression Model and evaluate model performance"
      ],
      "metadata": {
        "id": "0zALZqqT1s3s"
      }
    },
    {
      "cell_type": "code",
      "source": [
        "from sklearn.model_selection import train_test_split\n",
        "from sklearn.linear_model import LinearRegression\n",
        "from sklearn.metrics import mean_squared_error, r2_score"
      ],
      "metadata": {
        "id": "msQaEh7S10nI"
      },
      "execution_count": null,
      "outputs": []
    },
    {
      "cell_type": "code",
      "source": [
        "import numpy as np\n",
        "\n",
        "# Select features and target variable\n",
        "X = house_prices_df.drop(['Id','Location','Price', 'Condition', 'Garage'], axis=1, errors='ignore')\n",
        "y = house_prices_df['Price']\n",
        "\n",
        "# Split into training and test sets\n",
        "X_train, X_test, y_train, y_test = train_test_split(X, y, test_size=0.2, random_state=42)\n",
        "\n",
        "# Initialize and train the model\n",
        "model = LinearRegression()\n",
        "model.fit(X_train, y_train)\n",
        "\n",
        "# Make predictions\n",
        "y_pred = model.predict(X_test)\n",
        "\n",
        "# Calculate metrics\n",
        "mse = mean_squared_error(y_test, y_pred)\n",
        "r2 = r2_score(y_test, y_pred)\n",
        "rmse = np.sqrt(mse)\n",
        "\n",
        "# Print Evaluation Metrics\n",
        "print(f'Root Mean Squared Error(RMSE): {rmse:.2f}')\n",
        "print(f'R^2 Score: {r2:.4f}')"
      ],
      "metadata": {
        "id": "cOX6aeHN17K5"
      },
      "execution_count": null,
      "outputs": []
    },
    {
      "cell_type": "markdown",
      "source": [
        "# Insights"
      ],
      "metadata": {
        "id": "41l3Y12A3wrm"
      }
    },
    {
      "cell_type": "markdown",
      "source": [
        "Predict outputs for the test data including predicted vs. actual prices"
      ],
      "metadata": {
        "id": "_hTGeaOQ2zGs"
      }
    },
    {
      "cell_type": "code",
      "source": [
        "# Create a DataFrame with actual and predicted prices\n",
        "results = pd.DataFrame({'Actual': y_test.values, 'Predicted': y_pred})\n",
        "\n",
        "# Display the first 10 rows\n",
        "print(results.head(10))"
      ],
      "metadata": {
        "id": "3YA9byM826Qz"
      },
      "execution_count": null,
      "outputs": []
    },
    {
      "cell_type": "markdown",
      "source": [
        "Summary of the most important predictors influencing house prices."
      ],
      "metadata": {
        "id": "TImzZlWa3F4b"
      }
    },
    {
      "cell_type": "code",
      "source": [
        "# Remove the target variable itself and sort by absolute correlation\n",
        "correlations_filtered = correlations.drop('Price').abs().sort_values(ascending=False)\n",
        "\n",
        "# Select predictors with absolute correlation above 0.05\n",
        "important_predictors = correlations_filtered[correlations_filtered > 0.05]\n",
        "\n",
        "print(important_predictors)"
      ],
      "metadata": {
        "id": "ats3xOW33HJB"
      },
      "execution_count": null,
      "outputs": []
    }
  ]
}